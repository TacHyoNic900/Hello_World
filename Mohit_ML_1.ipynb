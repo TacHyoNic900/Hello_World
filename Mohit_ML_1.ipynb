{
  "nbformat": 4,
  "nbformat_minor": 0,
  "metadata": {
    "colab": {
      "provenance": [],
      "authorship_tag": "ABX9TyNC9Kk4gu3vtLdQHHFFzp63",
      "include_colab_link": true
    },
    "kernelspec": {
      "name": "python3",
      "display_name": "Python 3"
    },
    "language_info": {
      "name": "python"
    }
  },
  "cells": [
    {
      "cell_type": "markdown",
      "metadata": {
        "id": "view-in-github",
        "colab_type": "text"
      },
      "source": [
        "<a href=\"https://colab.research.google.com/github/TacHyoNic900/Hello_World/blob/master/Mohit_ML_1.ipynb\" target=\"_parent\"><img src=\"https://colab.research.google.com/assets/colab-badge.svg\" alt=\"Open In Colab\"/></a>"
      ]
    },
    {
      "cell_type": "markdown",
      "source": [],
      "metadata": {
        "id": "EQNmU0U8KAQ5"
      }
    },
    {
      "cell_type": "markdown",
      "source": [
        "addition of the twon numbers"
      ],
      "metadata": {
        "id": "wRtdUuoAKAUM"
      }
    },
    {
      "cell_type": "code",
      "source": [
        "a  = 10\n",
        "b = 20\n",
        "print(a+b)\n"
      ],
      "metadata": {
        "colab": {
          "base_uri": "https://localhost:8080/"
        },
        "id": "rLuDIDuhKDPM",
        "outputId": "aa65f09d-8e50-41c4-c0a2-fa5bcf191283"
      },
      "execution_count": 2,
      "outputs": [
        {
          "output_type": "stream",
          "name": "stdout",
          "text": [
            "30\n"
          ]
        }
      ]
    },
    {
      "cell_type": "markdown",
      "source": [
        "string concatation"
      ],
      "metadata": {
        "id": "AQgbifguKnRa"
      }
    },
    {
      "cell_type": "code",
      "source": [
        "a = \"Hello\\n\"\n",
        "b = \"World\"\n",
        "c = a+b\n",
        "print(c)"
      ],
      "metadata": {
        "colab": {
          "base_uri": "https://localhost:8080/"
        },
        "id": "kjNYPKy-Kw4a",
        "outputId": "3bf2170c-2ba5-4edd-a206-c301986b5004"
      },
      "execution_count": 5,
      "outputs": [
        {
          "output_type": "stream",
          "name": "stdout",
          "text": [
            "Hello\n",
            "World\n"
          ]
        }
      ]
    }
  ]
}