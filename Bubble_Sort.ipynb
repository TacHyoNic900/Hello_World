{
  "nbformat": 4,
  "nbformat_minor": 0,
  "metadata": {
    "colab": {
      "provenance": [],
      "authorship_tag": "ABX9TyMs9BSKargkHjFeFL1LEUM7",
      "include_colab_link": true
    },
    "kernelspec": {
      "name": "python3",
      "display_name": "Python 3"
    },
    "language_info": {
      "name": "python"
    }
  },
  "cells": [
    {
      "cell_type": "markdown",
      "metadata": {
        "id": "view-in-github",
        "colab_type": "text"
      },
      "source": [
        "<a href=\"https://colab.research.google.com/github/TacHyoNic900/Hello_World/blob/master/Bubble_Sort.ipynb\" target=\"_parent\"><img src=\"https://colab.research.google.com/assets/colab-badge.svg\" alt=\"Open In Colab\"/></a>"
      ]
    },
    {
      "cell_type": "markdown",
      "source": [
        "Bubble sort in python"
      ],
      "metadata": {
        "id": "DwCxO9jtuHB-"
      }
    },
    {
      "cell_type": "code",
      "source": [
        "\n",
        "def BubbleSort(arr):\n",
        "\tn = len(arr)\n",
        "\tswapped = False\n",
        "\tfor i in range(n-1):\n",
        "\t\tfor j in range(0, n-i-1):\n",
        "\t\t\tif arr[j] > arr[j + 1]:\n",
        "\t\t\t\tswapped = True\n",
        "\t\t\t\tarr[j], arr[j + 1] = arr[j + 1], arr[j]\n",
        "\t\t\n",
        "\t\tif not swapped:\n",
        "\t\t\treturn \n",
        "\n",
        "arr = [26,1,98,12,32,43]\n",
        "BubbleSort(arr)\n",
        "\n",
        "print(\"sorted array is:\")\n",
        "for i in range(len(arr)):\n",
        "\tprint(\"% d\" % arr[i], end=\" \")\n"
      ],
      "metadata": {
        "colab": {
          "base_uri": "https://localhost:8080/"
        },
        "id": "GOLq0UbjuPI1",
        "outputId": "cee90ffb-01e3-4a41-bc95-b5bd9311e88a"
      },
      "execution_count": 6,
      "outputs": [
        {
          "output_type": "stream",
          "name": "stdout",
          "text": [
            "sorted array is:\n",
            " 1  12  26  32  43  98 "
          ]
        }
      ]
    }
  ]
}