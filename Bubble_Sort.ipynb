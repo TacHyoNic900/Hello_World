{
  "nbformat": 4,
  "nbformat_minor": 0,
  "metadata": {
    "colab": {
      "provenance": [],
      "authorship_tag": "ABX9TyPYePzwFIVygtgkb/8uRyNR",
      "include_colab_link": true
    },
    "kernelspec": {
      "name": "python3",
      "display_name": "Python 3"
    },
    "language_info": {
      "name": "python"
    }
  },
  "cells": [
    {
      "cell_type": "markdown",
      "metadata": {
        "id": "view-in-github",
        "colab_type": "text"
      },
      "source": [
        "<a href=\"https://colab.research.google.com/github/TacHyoNic900/Hello_World/blob/master/Bubble_Sort.ipynb\" target=\"_parent\"><img src=\"https://colab.research.google.com/assets/colab-badge.svg\" alt=\"Open In Colab\"/></a>"
      ]
    },
    {
      "cell_type": "markdown",
      "source": [
        "Bubble sort in python"
      ],
      "metadata": {
        "id": "DwCxO9jtuHB-"
      }
    },
    {
      "cell_type": "code",
      "source": [
        "\n",
        "def sort(array):\n",
        "\tn = len(array)\n",
        "\tvalue = False\n",
        "\tfor i in range(n-1):\n",
        "\t\tfor j in range(0, n-i-1):\n",
        "\t\t\tif array[j] > array[j + 1]:\n",
        "\t\t\t\tvalue = True\n",
        "\t\t\t\tarray[j], array[j + 1] = array[j + 1], array[j]\n",
        "\t\t\n",
        "\t\tif not value:\n",
        "\t\t\treturn \n",
        "\n",
        "array = [26,1,98,12,32,43]\n",
        "sort(array)\n",
        "\n",
        "print(\"sorted array is:\")\n",
        "for i in range(len(array)):\n",
        "\tprint(\"% d\" % array[i], end=\" \")\n"
      ],
      "metadata": {
        "colab": {
          "base_uri": "https://localhost:8080/"
        },
        "id": "GOLq0UbjuPI1",
        "outputId": "4c17f477-06ce-43ac-caa3-fab362648de0"
      },
      "execution_count": 11,
      "outputs": [
        {
          "output_type": "stream",
          "name": "stdout",
          "text": [
            "sorted array is:\n",
            " 1  12  26  32  43  98 "
          ]
        }
      ]
    }
  ]
}